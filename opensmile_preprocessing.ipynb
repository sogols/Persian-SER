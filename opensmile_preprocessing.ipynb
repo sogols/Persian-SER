{
 "cells": [
  {
   "cell_type": "code",
   "execution_count": 3,
   "metadata": {},
   "outputs": [],
   "source": [
    "seed_value = 42\n",
    "import os\n",
    "\n",
    "os.environ['PYTHONHASHSEED'] = str(seed_value)\n",
    "import random\n",
    "\n",
    "random.seed(seed_value)\n",
    "import numpy as np\n",
    "\n",
    "np.random.seed(seed_value)\n",
    "import tensorflow as tf\n",
    "\n",
    "tf.random.set_seed(seed_value)\n",
    "\n",
    "import opensmile\n",
    "\n",
    "path = 'shemo'  # download and extract files from https://github.com/aliyzd95/ShEMO-Modification/raw/main/shemo.zip\n",
    "emo_codes = {\"A\": 0, \"W\": 1, \"H\": 2, \"S\": 3, \"N\": 4, \"F\": 5}\n",
    "emo_labels = [\"anger\", \"surprise\", \"happiness\", \"sadness\", \"neutral\", \"fear\"]\n",
    "\n",
    "\n",
    "def get_emotion_label(file_name):\n",
    "    emo_code = file_name[3]\n",
    "    return emo_codes[emo_code]\n",
    "\n",
    "\n",
    "def opensmile_Functionals():\n",
    "    feature_extractor = opensmile.Smile(\n",
    "        feature_set=opensmile.FeatureSet.eGeMAPSv02,\n",
    "        feature_level=opensmile.FeatureLevel.Functionals,\n",
    "        verbose=True, num_workers=None,\n",
    "        sampling_rate=16000, resample=True,\n",
    "    )\n",
    "    features = []\n",
    "    emotions = []\n",
    "    for file in os.listdir(path):\n",
    "        if emo_labels[get_emotion_label(file)] != 'fear':\n",
    "            df = feature_extractor.process_file(f'{path}/{file}')\n",
    "            features.append(df)\n",
    "            emotions.append(get_emotion_label(file))\n",
    "    features = np.array(features).squeeze()\n",
    "    emotions = np.array(emotions)\n",
    "    return features, emotions"
   ]
  },
  {
   "cell_type": "code",
   "execution_count": null,
   "metadata": {},
   "outputs": [],
   "source": []
  }
 ],
 "metadata": {
  "kernelspec": {
   "display_name": "Python 3",
   "language": "python",
   "name": "python3"
  },
  "language_info": {
   "codemirror_mode": {
    "name": "ipython",
    "version": 3
   },
   "file_extension": ".py",
   "mimetype": "text/x-python",
   "name": "python",
   "nbconvert_exporter": "python",
   "pygments_lexer": "ipython3",
   "version": "3.6.7"
  }
 },
 "nbformat": 4,
 "nbformat_minor": 4
}
